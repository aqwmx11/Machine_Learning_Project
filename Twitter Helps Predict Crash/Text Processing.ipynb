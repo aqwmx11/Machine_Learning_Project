{
 "cells": [
  {
   "cell_type": "code",
   "execution_count": 1,
   "metadata": {},
   "outputs": [],
   "source": [
    "import numpy as np\n",
    "import pandas as pd"
   ]
  },
  {
   "cell_type": "code",
   "execution_count": 2,
   "metadata": {},
   "outputs": [],
   "source": [
    "raw_data=pd.read_csv(\"Trump_username.csv\")"
   ]
  },
  {
   "cell_type": "code",
   "execution_count": 3,
   "metadata": {},
   "outputs": [
    {
     "data": {
      "text/html": [
       "<div>\n",
       "<style>\n",
       "    .dataframe thead tr:only-child th {\n",
       "        text-align: right;\n",
       "    }\n",
       "\n",
       "    .dataframe thead th {\n",
       "        text-align: left;\n",
       "    }\n",
       "\n",
       "    .dataframe tbody tr th {\n",
       "        vertical-align: top;\n",
       "    }\n",
       "</style>\n",
       "<table border=\"1\" class=\"dataframe\">\n",
       "  <thead>\n",
       "    <tr style=\"text-align: right;\">\n",
       "      <th></th>\n",
       "      <th>id</th>\n",
       "      <th>text</th>\n",
       "      <th>favorite_count</th>\n",
       "      <th>retweet_count</th>\n",
       "      <th>lang</th>\n",
       "      <th>source</th>\n",
       "      <th>created_y</th>\n",
       "      <th>created_m</th>\n",
       "      <th>created_d</th>\n",
       "      <th>created_h</th>\n",
       "      <th>created_min</th>\n",
       "      <th>coordinates</th>\n",
       "    </tr>\n",
       "  </thead>\n",
       "  <tbody>\n",
       "    <tr>\n",
       "      <th>0</th>\n",
       "      <td>986994992177561600</td>\n",
       "      <td>Governor Jerry Brown announced he will deploy ...</td>\n",
       "      <td>14372</td>\n",
       "      <td>3892</td>\n",
       "      <td>en</td>\n",
       "      <td>Twitter for iPhone</td>\n",
       "      <td>2018</td>\n",
       "      <td>4</td>\n",
       "      <td>19</td>\n",
       "      <td>15</td>\n",
       "      <td>48</td>\n",
       "      <td>NaN</td>\n",
       "    </tr>\n",
       "    <tr>\n",
       "      <th>1</th>\n",
       "      <td>986988633822412800</td>\n",
       "      <td>Thank you San Diego County for defending the r...</td>\n",
       "      <td>23917</td>\n",
       "      <td>5945</td>\n",
       "      <td>en</td>\n",
       "      <td>Twitter for iPhone</td>\n",
       "      <td>2018</td>\n",
       "      <td>4</td>\n",
       "      <td>19</td>\n",
       "      <td>15</td>\n",
       "      <td>23</td>\n",
       "      <td>NaN</td>\n",
       "    </tr>\n",
       "    <tr>\n",
       "      <th>2</th>\n",
       "      <td>986979039670931458</td>\n",
       "      <td>Great meeting with Prime Minister Abe of Japan...</td>\n",
       "      <td>28660</td>\n",
       "      <td>6273</td>\n",
       "      <td>en</td>\n",
       "      <td>Twitter for iPhone</td>\n",
       "      <td>2018</td>\n",
       "      <td>4</td>\n",
       "      <td>19</td>\n",
       "      <td>14</td>\n",
       "      <td>45</td>\n",
       "      <td>NaN</td>\n",
       "    </tr>\n",
       "    <tr>\n",
       "      <th>3</th>\n",
       "      <td>986801143014621185</td>\n",
       "      <td>It was my great honor to host my friend @JPN_P...</td>\n",
       "      <td>48248</td>\n",
       "      <td>11496</td>\n",
       "      <td>en</td>\n",
       "      <td>Twitter for iPhone</td>\n",
       "      <td>2018</td>\n",
       "      <td>4</td>\n",
       "      <td>19</td>\n",
       "      <td>2</td>\n",
       "      <td>58</td>\n",
       "      <td>NaN</td>\n",
       "    </tr>\n",
       "    <tr>\n",
       "      <th>4</th>\n",
       "      <td>986789533172760576</td>\n",
       "      <td>.@POTUS Trump thanks Prime Minister @AbeShinzo...</td>\n",
       "      <td>0</td>\n",
       "      <td>5670</td>\n",
       "      <td>en</td>\n",
       "      <td>Twitter for iPhone</td>\n",
       "      <td>2018</td>\n",
       "      <td>4</td>\n",
       "      <td>19</td>\n",
       "      <td>2</td>\n",
       "      <td>12</td>\n",
       "      <td>NaN</td>\n",
       "    </tr>\n",
       "  </tbody>\n",
       "</table>\n",
       "</div>"
      ],
      "text/plain": [
       "                   id                                               text  \\\n",
       "0  986994992177561600  Governor Jerry Brown announced he will deploy ...   \n",
       "1  986988633822412800  Thank you San Diego County for defending the r...   \n",
       "2  986979039670931458  Great meeting with Prime Minister Abe of Japan...   \n",
       "3  986801143014621185  It was my great honor to host my friend @JPN_P...   \n",
       "4  986789533172760576  .@POTUS Trump thanks Prime Minister @AbeShinzo...   \n",
       "\n",
       "   favorite_count  retweet_count lang              source  created_y  \\\n",
       "0           14372           3892   en  Twitter for iPhone       2018   \n",
       "1           23917           5945   en  Twitter for iPhone       2018   \n",
       "2           28660           6273   en  Twitter for iPhone       2018   \n",
       "3           48248          11496   en  Twitter for iPhone       2018   \n",
       "4               0           5670   en  Twitter for iPhone       2018   \n",
       "\n",
       "   created_m  created_d  created_h  created_min  coordinates  \n",
       "0          4         19         15           48          NaN  \n",
       "1          4         19         15           23          NaN  \n",
       "2          4         19         14           45          NaN  \n",
       "3          4         19          2           58          NaN  \n",
       "4          4         19          2           12          NaN  "
      ]
     },
     "execution_count": 3,
     "metadata": {},
     "output_type": "execute_result"
    }
   ],
   "source": [
    "raw_data.head()"
   ]
  },
  {
   "cell_type": "code",
   "execution_count": 4,
   "metadata": {},
   "outputs": [],
   "source": [
    "from nltk.tokenize import word_tokenize\n",
    "import nltk"
   ]
  },
  {
   "cell_type": "code",
   "execution_count": 5,
   "metadata": {},
   "outputs": [],
   "source": [
    "import re"
   ]
  },
  {
   "cell_type": "code",
   "execution_count": 6,
   "metadata": {},
   "outputs": [],
   "source": [
    "from nltk.stem.porter import PorterStemmer"
   ]
  },
  {
   "cell_type": "code",
   "execution_count": 8,
   "metadata": {},
   "outputs": [],
   "source": [
    "def improve_bag(mybag, mystring,pattern=re.compile(r'[a-zA-Z]{2,}'),stopwords=set(nltk.corpus.stopwords.words('english')),\n",
    "               stemming=True):\n",
    "    \n",
    "    #find all words with more than 2 characters\n",
    "    mylist=pattern.findall(mystring)\n",
    "    \n",
    "    #filter using stopwords\n",
    "    for i in range(len(mylist)):\n",
    "        mylist[i]=mylist[i].lower()\n",
    "    new_bag=[word for word in mylist if word not in stopwords]\n",
    "    \n",
    "    #do stemming if the stemming parameter is True\n",
    "    if stemming == True:\n",
    "        porter_stemmer = PorterStemmer()\n",
    "        for i in range(len(new_bag)):\n",
    "            new_bag[i]=porter_stemmer.stem(new_bag[i])\n",
    "    \n",
    "    #update our word bag\n",
    "    for i in new_bag:\n",
    "        if i in mybag:\n",
    "            mybag[i]+=1\n",
    "        else:\n",
    "            mybag[i]=1"
   ]
  },
  {
   "cell_type": "code",
   "execution_count": 9,
   "metadata": {},
   "outputs": [],
   "source": [
    "def build_bag(mybag, tweetset,pattern=re.compile(r'[a-zA-Z]{2,}'),stopwords=set(nltk.corpus.stopwords.words('english')),\n",
    "               stemming=True):\n",
    "    print(\"Before update, my bag has \", len(mybag), \" words\")\n",
    "    \n",
    "    N=tweetset.shape[0]\n",
    "    \n",
    "    for i in range(N):\n",
    "        improve_bag(mybag, tweetset.loc[i,\"text\"],pattern=re.compile(r'[a-zA-Z]{2,}'),\n",
    "                          stopwords=set(nltk.corpus.stopwords.words('english')),\n",
    "                          stemming=stemming)\n",
    "    \n",
    "    print(\"After update, my bag has \", len(mybag), \" words\")"
   ]
  },
  {
   "cell_type": "code",
   "execution_count": 1,
   "metadata": {},
   "outputs": [],
   "source": [
    "import pickle"
   ]
  },
  {
   "cell_type": "code",
   "execution_count": 14,
   "metadata": {},
   "outputs": [
    {
     "name": "stdout",
     "output_type": "stream",
     "text": [
      "Before update, my bag has  0  words\n",
      "After update, my bag has  6848  words\n"
     ]
    }
   ],
   "source": [
    "my_bag={}\n",
    "build_bag(my_bag, raw_data,pattern=re.compile(r'[a-zA-Z]{2,}'),stopwords=set(nltk.corpus.stopwords.words('english')),\n",
    "               stemming=True)"
   ]
  },
  {
   "cell_type": "code",
   "execution_count": 19,
   "metadata": {},
   "outputs": [],
   "source": [
    "fw=open(\"word_bag.txt\",\"wb\")\n",
    "pickle.dump(my_bag, fw)\n",
    "fw.close()"
   ]
  },
  {
   "cell_type": "code",
   "execution_count": 20,
   "metadata": {},
   "outputs": [],
   "source": [
    "fr = open('word_bag.txt','rb')  \n",
    "data1 = pickle.load(fr)"
   ]
  },
  {
   "cell_type": "code",
   "execution_count": 25,
   "metadata": {},
   "outputs": [
    {
     "data": {
      "text/plain": [
       "6848"
      ]
     },
     "execution_count": 25,
     "metadata": {},
     "output_type": "execute_result"
    }
   ],
   "source": [
    "len(my_bag)"
   ]
  },
  {
   "cell_type": "code",
   "execution_count": 22,
   "metadata": {},
   "outputs": [],
   "source": [
    "fr.close()"
   ]
  },
  {
   "cell_type": "code",
   "execution_count": 23,
   "metadata": {},
   "outputs": [],
   "source": [
    "#Here is the user name of some famous twitter account that investors should follow.\n",
    "newsDict={\n",
    "    'CNBC':'CNBC',\n",
    "    'StockTwits':'StockTwits',\n",
    "    'WSJ':'WSJMarkets',\n",
    "    'Benzinga.com':'Benzinga',\n",
    "}\n",
    "peopleDict={\n",
    "    'Carl Icahn':'Carl_C_Icahn',\n",
    "    'John Carney':'carney',\n",
    "    'Stephanie Link':'Stephanie_Link',\n",
    "    'Jim Cramer':'jimcramer',\n",
    "    'Jeffrey Gundlach':'TruthGundlach',\n",
    "    'Mohamed A. El-Erian':'elerianm',\n",
    "    'Joseph A. LaVorgna':'Lavorgnanomics',\n",
    "}\n",
    "instituteDict={\n",
    "    'Federal Reserve Bank of St.Louis':'stlouisfed',\n",
    "    'Bespoke Investment Group':'bespokeinvest',\n",
    "    'Morgan Stanley':'MorganStanley',\n",
    "    'Muddy Water Research':'muddywatersre',\n",
    "}"
   ]
  },
  {
   "cell_type": "code",
   "execution_count": 26,
   "metadata": {},
   "outputs": [
    {
     "name": "stdout",
     "output_type": "stream",
     "text": [
      "Before update, my bag has  6848  words\n",
      "After update, my bag has  13216  words\n",
      "Before update, my bag has  13216  words\n",
      "After update, my bag has  19432  words\n",
      "Before update, my bag has  19432  words\n",
      "After update, my bag has  24375  words\n",
      "Before update, my bag has  24375  words\n",
      "After update, my bag has  29738  words\n"
     ]
    }
   ],
   "source": [
    "for i in newsDict.values():\n",
    "    temp_data=pd.read_csv(i+\"_username.csv\")\n",
    "    build_bag(my_bag, temp_data,pattern=re.compile(r'[a-zA-Z]{2,}'),stopwords=set(nltk.corpus.stopwords.words('english')),\n",
    "               stemming=True)"
   ]
  },
  {
   "cell_type": "code",
   "execution_count": 27,
   "metadata": {},
   "outputs": [
    {
     "name": "stdout",
     "output_type": "stream",
     "text": [
      "Before update, my bag has  29738  words\n",
      "After update, my bag has  30138  words\n",
      "Before update, my bag has  30138  words\n",
      "After update, my bag has  30249  words\n",
      "Before update, my bag has  30249  words\n",
      "After update, my bag has  32244  words\n",
      "Before update, my bag has  32244  words\n",
      "After update, my bag has  36392  words\n",
      "Before update, my bag has  36392  words\n",
      "After update, my bag has  36574  words\n",
      "Before update, my bag has  36574  words\n",
      "After update, my bag has  41779  words\n",
      "Before update, my bag has  41779  words\n",
      "After update, my bag has  42609  words\n"
     ]
    }
   ],
   "source": [
    "for i in peopleDict.values():\n",
    "    temp_data=pd.read_csv(i+\"_username.csv\")\n",
    "    build_bag(my_bag, temp_data,pattern=re.compile(r'[a-zA-Z]{2,}'),stopwords=set(nltk.corpus.stopwords.words('english')),\n",
    "               stemming=True)"
   ]
  },
  {
   "cell_type": "code",
   "execution_count": 28,
   "metadata": {},
   "outputs": [
    {
     "name": "stdout",
     "output_type": "stream",
     "text": [
      "Before update, my bag has  42609  words\n",
      "After update, my bag has  49264  words\n",
      "Before update, my bag has  49264  words\n",
      "After update, my bag has  52760  words\n",
      "Before update, my bag has  52760  words\n",
      "After update, my bag has  58719  words\n",
      "Before update, my bag has  58719  words\n",
      "After update, my bag has  60619  words\n"
     ]
    }
   ],
   "source": [
    "for i in instituteDict.values():\n",
    "    temp_data=pd.read_csv(i+\"_username.csv\")\n",
    "    build_bag(my_bag, temp_data,pattern=re.compile(r'[a-zA-Z]{2,}'),stopwords=set(nltk.corpus.stopwords.words('english')),\n",
    "               stemming=True)"
   ]
  },
  {
   "cell_type": "code",
   "execution_count": 30,
   "metadata": {},
   "outputs": [],
   "source": [
    "frequence_list=list(my_bag.values())"
   ]
  },
  {
   "cell_type": "code",
   "execution_count": 31,
   "metadata": {},
   "outputs": [],
   "source": [
    "import matplotlib.pyplot as plt"
   ]
  },
  {
   "cell_type": "code",
   "execution_count": 34,
   "metadata": {},
   "outputs": [
    {
     "data": {
      "image/png": "[encoded data removed]",
      "text/plain": [
       "<matplotlib.figure.Figure at 0xba86cf0>"
      ]
     },
     "metadata": {},
     "output_type": "display_data"
    }
   ],
   "source": [
    "plt.hist(frequence_list,bins=50)\n",
    "plt.show()"
   ]
  },
  {
   "cell_type": "code",
   "execution_count": 35,
   "metadata": {},
   "outputs": [],
   "source": [
    "sorted_bag=sorted(my_bag.items(),key=lambda x:x[1], reverse=True)"
   ]
  },
  {
   "cell_type": "code",
   "execution_count": 36,
   "metadata": {},
   "outputs": [
    {
     "data": {
      "text/plain": [
       "[('co', 37617),\n",
       " ('http', 37424),\n",
       " ('market', 4016),\n",
       " ('amp', 3516),\n",
       " ('year', 2962),\n",
       " ('via', 2818),\n",
       " ('stock', 2587),\n",
       " ('fed', 2085),\n",
       " ('today', 1903),\n",
       " ('week', 1896),\n",
       " ('new', 1876),\n",
       " ('vs', 1746),\n",
       " ('trade', 1743),\n",
       " ('say', 1720),\n",
       " ('rate', 1658),\n",
       " ('report', 1630),\n",
       " ('us', 1591),\n",
       " ('time', 1565),\n",
       " ('get', 1523),\n",
       " ('economi', 1511),\n",
       " ('one', 1480),\n",
       " ('day', 1452),\n",
       " ('like', 1448),\n",
       " ('sinc', 1432),\n",
       " ('growth', 1379),\n",
       " ('price', 1351),\n",
       " ('earn', 1338),\n",
       " ('investor', 1320),\n",
       " ('look', 1304),\n",
       " ('last', 1302),\n",
       " ('see', 1293),\n",
       " ('invest', 1199),\n",
       " ('make', 1191),\n",
       " ('gt', 1152),\n",
       " ('compani', 1146),\n",
       " ('great', 1130),\n",
       " ('expect', 1089),\n",
       " ('high', 1085),\n",
       " ('bank', 1075),\n",
       " ('good', 1048),\n",
       " ('go', 1035),\n",
       " ('month', 1032),\n",
       " ('data', 1017),\n",
       " ('econom', 1014),\n",
       " ('china', 988),\n",
       " ('could', 959),\n",
       " ('job', 951),\n",
       " ('sale', 939),\n",
       " ('busi', 920),\n",
       " ('big', 915)]"
      ]
     },
     "execution_count": 36,
     "metadata": {},
     "output_type": "execute_result"
    }
   ],
   "source": [
    "sorted_bag[:50]"
   ]
  },
  {
   "cell_type": "code",
   "execution_count": 38,
   "metadata": {},
   "outputs": [],
   "source": [
    "fw=open(\"word_bag.txt\",\"wb\")\n",
    "pickle.dump(my_bag, fw)\n",
    "fw.close()"
   ]
  },
  {
   "cell_type": "code",
   "execution_count": 39,
   "metadata": {},
   "outputs": [],
   "source": [
    "fw=open(\"sorted_bag.txt\",\"wb\")\n",
    "pickle.dump(sorted_bag, fw)\n",
    "fw.close()"
   ]
  },
  {
   "cell_type": "code",
   "execution_count": 41,
   "metadata": {},
   "outputs": [
    {
     "name": "stdout",
     "output_type": "stream",
     "text": [
      "Before update, my bag has  0  words\n",
      "After update, my bag has  10295  words\n",
      "Before update, my bag has  10295  words\n",
      "After update, my bag has  17510  words\n",
      "Before update, my bag has  17510  words\n",
      "After update, my bag has  23467  words\n",
      "Before update, my bag has  23467  words\n",
      "After update, my bag has  29627  words\n"
     ]
    }
   ],
   "source": [
    "nostem_bag={}\n",
    "for i in newsDict.values():\n",
    "    temp_data=pd.read_csv(i+\"_username.csv\")\n",
    "    build_bag(nostem_bag, temp_data,pattern=re.compile(r'[a-zA-Z]{2,}'),stopwords=set(nltk.corpus.stopwords.words('english')),\n",
    "               stemming=False)"
   ]
  },
  {
   "cell_type": "code",
   "execution_count": 42,
   "metadata": {},
   "outputs": [
    {
     "name": "stdout",
     "output_type": "stream",
     "text": [
      "Before update, my bag has  29627  words\n",
      "After update, my bag has  30161  words\n",
      "Before update, my bag has  30161  words\n",
      "After update, my bag has  30312  words\n",
      "Before update, my bag has  30312  words\n",
      "After update, my bag has  32884  words\n",
      "Before update, my bag has  32884  words\n",
      "After update, my bag has  37797  words\n",
      "Before update, my bag has  37797  words\n",
      "After update, my bag has  38066  words\n",
      "Before update, my bag has  38066  words\n",
      "After update, my bag has  44345  words\n",
      "Before update, my bag has  44345  words\n",
      "After update, my bag has  45460  words\n"
     ]
    }
   ],
   "source": [
    "for i in peopleDict.values():\n",
    "    temp_data=pd.read_csv(i+\"_username.csv\")\n",
    "    build_bag(nostem_bag, temp_data,pattern=re.compile(r'[a-zA-Z]{2,}'),stopwords=set(nltk.corpus.stopwords.words('english')),\n",
    "               stemming=False)"
   ]
  },
  {
   "cell_type": "code",
   "execution_count": 43,
   "metadata": {},
   "outputs": [
    {
     "name": "stdout",
     "output_type": "stream",
     "text": [
      "Before update, my bag has  45460  words\n",
      "After update, my bag has  52513  words\n",
      "Before update, my bag has  52513  words\n",
      "After update, my bag has  56300  words\n",
      "Before update, my bag has  56300  words\n",
      "After update, my bag has  62765  words\n",
      "Before update, my bag has  62765  words\n",
      "After update, my bag has  65192  words\n"
     ]
    }
   ],
   "source": [
    "for i in instituteDict.values():\n",
    "    temp_data=pd.read_csv(i+\"_username.csv\")\n",
    "    build_bag(nostem_bag, temp_data,pattern=re.compile(r'[a-zA-Z]{2,}'),stopwords=set(nltk.corpus.stopwords.words('english')),\n",
    "               stemming=False)"
   ]
  },
  {
   "cell_type": "code",
   "execution_count": 44,
   "metadata": {},
   "outputs": [],
   "source": [
    "sorted_nostem_bag=sorted(nostem_bag.items(),key=lambda x:x[1], reverse=True)"
   ]
  },
  {
   "cell_type": "code",
   "execution_count": 45,
   "metadata": {},
   "outputs": [
    {
     "data": {
      "text/plain": [
       "[('co', 36174),\n",
       " ('https', 35229),\n",
       " ('amp', 2944),\n",
       " ('via', 2807),\n",
       " ('fed', 2074),\n",
       " ('market', 2026),\n",
       " ('year', 1975),\n",
       " ('markets', 1908),\n",
       " ('vs', 1741),\n",
       " ('new', 1727),\n",
       " ('today', 1683),\n",
       " ('week', 1657),\n",
       " ('stocks', 1596),\n",
       " ('us', 1497),\n",
       " ('economy', 1405),\n",
       " ('since', 1374),\n",
       " ('growth', 1361),\n",
       " ('one', 1312),\n",
       " ('says', 1288),\n",
       " ('earnings', 1230),\n",
       " ('last', 1201),\n",
       " ('time', 1166),\n",
       " ('gt', 1149),\n",
       " ('investors', 1071),\n",
       " ('data', 1014),\n",
       " ('see', 963),\n",
       " ('rate', 955),\n",
       " ('like', 937),\n",
       " ('stock', 923),\n",
       " ('could', 922),\n",
       " ('china', 917),\n",
       " ('get', 900),\n",
       " ('may', 881),\n",
       " ('day', 879),\n",
       " ('sales', 869),\n",
       " ('economic', 845),\n",
       " ('est', 829),\n",
       " ('wsj', 801),\n",
       " ('good', 793),\n",
       " ('http', 782),\n",
       " ('right', 775),\n",
       " ('financial', 772),\n",
       " ('first', 760),\n",
       " ('trade', 759),\n",
       " ('business', 758),\n",
       " ('years', 749),\n",
       " ('billion', 748),\n",
       " ('gdp', 738),\n",
       " ('report', 727),\n",
       " ('inflation', 718)]"
      ]
     },
     "execution_count": 45,
     "metadata": {},
     "output_type": "execute_result"
    }
   ],
   "source": [
    "sorted_nostem_bag[:50]"
   ]
  },
  {
   "cell_type": "code",
   "execution_count": 50,
   "metadata": {},
   "outputs": [
    {
     "data": {
      "text/plain": [
       "721"
      ]
     },
     "execution_count": 50,
     "metadata": {},
     "output_type": "execute_result"
    }
   ],
   "source": [
    "my_bag['inflat']"
   ]
  },
  {
   "cell_type": "code",
   "execution_count": 51,
   "metadata": {},
   "outputs": [],
   "source": [
    "fw=open(\"nostem_bag.txt\",\"wb\")\n",
    "pickle.dump(nostem_bag, fw)\n",
    "fw.close()"
   ]
  },
  {
   "cell_type": "code",
   "execution_count": 53,
   "metadata": {},
   "outputs": [],
   "source": [
    "fw=open(\"sorted_nostembag.txt\",\"wb\")\n",
    "pickle.dump(sorted_nostem_bag, fw)\n",
    "fw.close()"
   ]
  },
  {
   "cell_type": "code",
   "execution_count": 2,
   "metadata": {},
   "outputs": [],
   "source": [
    "fr = open('sorted_bag.txt','rb')  \n",
    "data1 = pickle.load(fr)"
   ]
  },
  {
   "cell_type": "code",
   "execution_count": 14,
   "metadata": {},
   "outputs": [
    {
     "data": {
      "text/plain": [
       "[('hand', 102),\n",
       " ('brexit', 102),\n",
       " ('spotifi', 102),\n",
       " ('btfd', 102),\n",
       " ('banker', 102),\n",
       " ('jolt', 102),\n",
       " ('chairman', 101),\n",
       " ('lie', 101),\n",
       " ('kind', 101),\n",
       " ('competit', 101),\n",
       " ('bigger', 101),\n",
       " ('schedul', 101),\n",
       " ('paper', 101),\n",
       " ('standard', 101),\n",
       " ('tv', 101),\n",
       " ('row', 101),\n",
       " ('macro', 101),\n",
       " ('block', 100),\n",
       " ('six', 100),\n",
       " ('cb', 100),\n",
       " ('remark', 100),\n",
       " ('produc', 100),\n",
       " ('ratio', 100),\n",
       " ('role', 100),\n",
       " ('peopleatm', 100),\n",
       " ('word', 99),\n",
       " ('usa', 99),\n",
       " ('replac', 99),\n",
       " ('bit', 99),\n",
       " ('insid', 99),\n",
       " ('hk', 99),\n",
       " ('maker', 99),\n",
       " ('sep', 99),\n",
       " ('fbi', 98),\n",
       " ('enjoy', 98),\n",
       " ('process', 98),\n",
       " ('giant', 98),\n",
       " ('easi', 98),\n",
       " ('rd', 98),\n",
       " ('though', 98),\n",
       " ('coupl', 98),\n",
       " ('russian', 98),\n",
       " ('examin', 98),\n",
       " ('bottom', 98),\n",
       " ('reserv', 98),\n",
       " ('attack', 97),\n",
       " ('teacher', 97),\n",
       " ('squawkcnbc', 97),\n",
       " ('ticket', 97),\n",
       " ('asia', 97),\n",
       " ('jmackin', 97),\n",
       " ('pce', 97),\n",
       " ('men', 96),\n",
       " ('critic', 96),\n",
       " ('chanc', 96),\n",
       " ('beyond', 96),\n",
       " ('page', 96),\n",
       " ('space', 96),\n",
       " ('mayb', 96),\n",
       " ('divers', 96),\n",
       " ('nyc', 96),\n",
       " ('iphon', 96),\n",
       " ('climb', 96),\n",
       " ('imf', 96),\n",
       " ('plu', 95),\n",
       " ('tough', 95),\n",
       " ('found', 95),\n",
       " ('util', 95),\n",
       " ('kick', 95),\n",
       " ('hurrican', 95),\n",
       " ('own', 95),\n",
       " ('buyback', 95),\n",
       " ('household', 95),\n",
       " ('notabl', 95),\n",
       " ('ppi', 95),\n",
       " ('bloombergtv', 95),\n",
       " ('mexico', 94),\n",
       " ('expert', 94),\n",
       " ('hot', 94),\n",
       " ('stabil', 94),\n",
       " ('figur', 94),\n",
       " ('electr', 94),\n",
       " ('lesson', 94),\n",
       " ('germani', 94),\n",
       " ('streak', 94),\n",
       " ('tighten', 94),\n",
       " ('robot', 94),\n",
       " ('liquid', 94),\n",
       " ('biotech', 94),\n",
       " ('prefer', 94),\n",
       " ('safe', 93),\n",
       " ('washington', 93),\n",
       " ('self', 93),\n",
       " ('complet', 93),\n",
       " ('date', 93),\n",
       " ('room', 93),\n",
       " ('featur', 93),\n",
       " ('weight', 93),\n",
       " ('bounc', 93),\n",
       " ('dia', 93)]"
      ]
     },
     "execution_count": 14,
     "metadata": {},
     "output_type": "execute_result"
    }
   ],
   "source": [
    "data1[900:1000]"
   ]
  },
  {
   "cell_type": "code",
   "execution_count": 19,
   "metadata": {},
   "outputs": [],
   "source": [
    "selected_data=[i[0] for i in data1[:1000]]"
   ]
  },
  {
   "cell_type": "code",
   "execution_count": 21,
   "metadata": {},
   "outputs": [],
   "source": [
    "fw=open(\"selected_wordbag.txt\",\"wb\")\n",
    "pickle.dump(selected_data, fw)\n",
    "fw.close()"
   ]
  },
  {
   "cell_type": "code",
   "execution_count": null,
   "metadata": {},
   "outputs": [],
   "source": []
  }
 ],
 "metadata": {
  "kernelspec": {
   "display_name": "Python 3",
   "language": "python",
   "name": "python3"
  },
  "language_info": {
   "codemirror_mode": {
    "name": "ipython",
    "version": 3
   },
   "file_extension": ".py",
   "mimetype": "text/x-python",
   "name": "python",
   "nbconvert_exporter": "python",
   "pygments_lexer": "ipython3",
   "version": "3.6.4"
  }
 },
 "nbformat": 4,
 "nbformat_minor": 2
}
