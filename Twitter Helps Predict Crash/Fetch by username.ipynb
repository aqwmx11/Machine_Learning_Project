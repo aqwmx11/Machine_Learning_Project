{
 "cells": [
  {
   "cell_type": "code",
   "execution_count": 4,
   "metadata": {},
   "outputs": [],
   "source": [
    "#Partly of this code comes from https://github.com/AaronJi/TrumpTwitterAnalysis"
   ]
  },
  {
   "cell_type": "code",
   "execution_count": 1,
   "metadata": {},
   "outputs": [],
   "source": [
    "import pandas as pd\n",
    "\n",
    "import tweepy"
   ]
  },
  {
   "cell_type": "code",
   "execution_count": 2,
   "metadata": {},
   "outputs": [],
   "source": [
    "#Helper function to fetch all text from twitter without 140 character limitation\n",
    "def text_process(tweet):\n",
    "    if 'retweeted_status' in tweet._json:\n",
    "        return tweet._json['retweeted_status']['full_text']\n",
    "    else:\n",
    "        return tweet.full_text"
   ]
  },
  {
   "cell_type": "code",
   "execution_count": 3,
   "metadata": {},
   "outputs": [],
   "source": [
    "#Helper function to change twitter resultset to pandas.dataframe\n",
    "def tweet2df(tweets):\n",
    "\n",
    "    columns = ['id', 'text', 'favorite_count', 'retweet_count', 'lang', 'source', 'created_y', 'created_m', 'created_d', 'created_h', 'created_min', 'coordinates']\n",
    "\n",
    "    data = [\n",
    "\n",
    "        [tweet.id, text_process(tweet), tweet.favorite_count, tweet.retweet_count, tweet.lang, tweet.source,\n",
    "\n",
    "         tweet.created_at.year, tweet.created_at.month, tweet.created_at.day, tweet.created_at.hour, tweet.created_at.minute, tweet.coordinates]\n",
    "\n",
    "        for tweet in tweets]\n",
    "\n",
    "    df = pd.DataFrame(data, columns=columns)\n",
    "\n",
    "    return df"
   ]
  },
  {
   "cell_type": "code",
   "execution_count": 36,
   "metadata": {},
   "outputs": [],
   "source": [
    "#Fetch twitter according to user name\n",
    "#Input: username: a string representing Twitter username, api: an object from tweepy\n",
    "#Output: object from tweepy of class ResultSet\n",
    "def fetch_by_username(username,api):\n",
    "    #list to hold final result \n",
    "    all_tweets=[]\n",
    "    \n",
    "    #add new tweets to our result\n",
    "    new_tweets = api.user_timeline(screen_name = username,count=200,tweet_mode='extended')\n",
    "    all_tweets.extend(new_tweets)\n",
    "    \n",
    "    #record the id of our oldest tweet and next search will start from an even elder one\n",
    "    next_id = all_tweets[-1].id - 1\n",
    "    \n",
    "    #keep fetching tweets until we reach the limitation of twitter api\n",
    "    while len(new_tweets) > 0:\n",
    "        print(\"getting tweets before id = %s\" % (next_id))\n",
    "\n",
    "        #keep fetching data...\n",
    "        new_tweets = api.user_timeline(screen_name = username, count=200, max_id=next_id,tweet_mode='extended')\n",
    "\n",
    "        #add to our final result\n",
    "        all_tweets.extend(new_tweets)\n",
    "\n",
    "        #update the id of the oldest tweet, and select our next id\n",
    "        next_id = all_tweets[-1].id - 1\n",
    "\n",
    "        print (\"...%s tweets downloaded so far\" % (len(all_tweets)))\n",
    "\n",
    "    print (\"...%s tweets downloaded totally\" % (len(all_tweets)))\n",
    "\n",
    "    return all_tweets"
   ]
  },
  {
   "cell_type": "code",
   "execution_count": 6,
   "metadata": {},
   "outputs": [],
   "source": [
    "#Deal with twitter ResultSet object\n",
    "#Input: tweets_list, an ResultSet object from last function; filename: your filename\n",
    "#Output: no ouput, but you should have a saved csv file\n",
    "def tweets2csv(tweets_list, filename):\n",
    "    mydf=tweet2df(tweets_list)\n",
    "    mydf.to_csv(filename,encoding=\"utf-8\",index=False)"
   ]
  },
  {
   "cell_type": "code",
   "execution_count": 7,
   "metadata": {},
   "outputs": [],
   "source": [
    "def main():\n",
    "    #change here to your own key and secret\n",
    "    consumer_key = \"******\"\n",
    "\n",
    "    consumer_secret = \"******\"\n",
    "\n",
    "    access_key = \"******\"\n",
    "\n",
    "    access_secret = \"******\"\n",
    "    \n",
    "    auth = tweepy.OAuthHandler(consumer_key, consumer_secret)\n",
    "\n",
    "    auth.set_access_token(access_key, access_secret)\n",
    "\n",
    "    api = tweepy.API(auth)\n",
    "    \n",
    "    test_tweets=fetch_by_username(\"realDonaldTrump\",api)\n",
    "    tweets2csv(test_tweets, \"Trump_username.csv\")"
   ]
  },
  {
   "cell_type": "code",
   "execution_count": 41,
   "metadata": {},
   "outputs": [
    {
     "name": "stdout",
     "output_type": "stream",
     "text": [
      "getting tweets before id = 976532956557737983\n",
      "...400 tweets downloaded so far\n",
      "getting tweets before id = 965212168449941504\n",
      "...600 tweets downloaded so far\n",
      "getting tweets before id = 952183458922672129\n",
      "...800 tweets downloaded so far\n",
      "getting tweets before id = 941756992070307844\n",
      "...997 tweets downloaded so far\n",
      "getting tweets before id = 931254609041068031\n",
      "...1197 tweets downloaded so far\n",
      "getting tweets before id = 923546629935894529\n",
      "...1397 tweets downloaded so far\n",
      "getting tweets before id = 915887200767758336\n",
      "...1596 tweets downloaded so far\n",
      "getting tweets before id = 909768037787717632\n",
      "...1796 tweets downloaded so far\n",
      "getting tweets before id = 900236323893673983\n",
      "...1996 tweets downloaded so far\n",
      "getting tweets before id = 891257113565163519\n",
      "...2196 tweets downloaded so far\n",
      "getting tweets before id = 882049782541414399\n",
      "...2396 tweets downloaded so far\n",
      "getting tweets before id = 872041195618349055\n",
      "...2595 tweets downloaded so far\n",
      "getting tweets before id = 857604537003200511\n",
      "...2795 tweets downloaded so far\n",
      "getting tweets before id = 842491443675611137\n",
      "...2995 tweets downloaded so far\n",
      "getting tweets before id = 827482059438432259\n",
      "...3195 tweets downloaded so far\n",
      "getting tweets before id = 816637064708030463\n",
      "...3226 tweets downloaded so far\n",
      "getting tweets before id = 814958820980039680\n",
      "...3226 tweets downloaded so far\n",
      "...3226 tweets downloaded totally\n"
     ]
    }
   ],
   "source": [
    "if __name__ == '__main__':\n",
    "    \n",
    "    #a test\n",
    "    main()"
   ]
  }
 ],
 "metadata": {
  "kernelspec": {
   "display_name": "Python 3",
   "language": "python",
   "name": "python3"
  },
  "language_info": {
   "codemirror_mode": {
    "name": "ipython",
    "version": 3
   },
   "file_extension": ".py",
   "mimetype": "text/x-python",
   "name": "python",
   "nbconvert_exporter": "python",
   "pygments_lexer": "ipython3",
   "version": "3.6.4"
  }
 },
 "nbformat": 4,
 "nbformat_minor": 2
}
